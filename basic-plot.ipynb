{
  "nbformat": 4,
  "nbformat_minor": 0,
  "metadata": {
    "colab": {
      "name": "Individual Task ISS.ipynb",
      "provenance": [],
      "collapsed_sections": []
    },
    "kernelspec": {
      "name": "python3",
      "display_name": "Python 3"
    },
    "language_info": {
      "name": "python"
    }
  },
  "cells": [
    {
      "cell_type": "code",
      "execution_count": null,
      "metadata": {
        "id": "jopWTlo9KHl7"
      },
      "outputs": [],
      "source": [
        "import pandas as pd\n",
        "import numpy as np\n",
        "import matplotlib.pyplot as plt\n",
        "import plotly.express as px\n",
        "from IPython.display import clear_output\n",
        "import threading\n",
        "\n",
        "import time\n",
        "from datetime import datetime\n",
        "\n"
      ]
    },
    {
      "cell_type": "code",
      "source": [
        "issData = []\n",
        "\n",
        "now = datetime.now()\n",
        "startTimestamp = datetime.timestamp(now)\n",
        "\n",
        "def pullData(): \n",
        "    df = pd.read_json('http://api.open-notify.org/iss-now.json')\n",
        "    issData.append([df.loc['latitude','iss_position'], df.loc['longitude','iss_position']])\n",
        "    # print(issData)\n",
        "  \n",
        "    now = datetime.now()\n",
        "    currentTimestamp = datetime.timestamp(now)\n",
        "\n",
        "    if int(startTimestamp + 60*18) > int(currentTimestamp):\n",
        "        time.sleep(10)\n",
        "        pullData()\n",
        "    else: \n",
        "      print('Timeout reached')\n",
        "      \n",
        "\n",
        "pullData()"
      ],
      "metadata": {
        "colab": {
          "base_uri": "https://localhost:8080/"
        },
        "id": "Cp_2k7dJLHrC",
        "outputId": "5b41fba4-134a-4e64-a2f7-356692c8bf9a"
      },
      "execution_count": null,
      "outputs": [
        {
          "output_type": "stream",
          "name": "stdout",
          "text": [
            "Timeout reached\n"
          ]
        }
      ]
    },
    {
      "cell_type": "code",
      "source": [
        "data = np.array(issData)\n",
        "\n",
        "fig, ax = plt.subplots()\n",
        "\n",
        "x = data[:, 0]\n",
        "y = data[:, 1]\n",
        "\n",
        "plt.plot(data[:, 0], data[:, 1], 'r*')\n",
        "\n",
        "plt.show()"
      ],
      "metadata": {
        "colab": {
          "base_uri": "https://localhost:8080/",
          "height": 265
        },
        "id": "zxYrpsS-RFgr",
        "outputId": "596fda1e-7dfe-4e04-b388-b8892edd5e37"
      },
      "execution_count": null,
      "outputs": [
        {
          "output_type": "display_data",
          "data": {
            "text/plain": [
              "<Figure size 432x288 with 1 Axes>"
            ],
            "image/png": "[encoded data removed]"
          },
          "metadata": {
            "needs_background": "light"
          }
        }
      ]
    }
  ]
}